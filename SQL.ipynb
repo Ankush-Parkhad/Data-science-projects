{
 "cells": [
  {
   "cell_type": "markdown",
   "id": "493b3fef",
   "metadata": {},
   "source": [
    "# DATABASE MANAGEMENT SYSTEM(DBMS)"
   ]
  },
  {
   "cell_type": "raw",
   "id": "1137e621",
   "metadata": {},
   "source": [
    "A DBMS contains \"rows and columns\" or you can also call it\"tuples and attributes\""
   ]
  },
  {
   "cell_type": "raw",
   "id": "a9de4691",
   "metadata": {},
   "source": [
    "Working with database using SQL\n",
    "\n",
    "1.Create a connection object.\n",
    "2.From the connection object,create a cursor object.\n",
    "3.Using the cursor object,call the execute method with create table query as the parameter."
   ]
  },
  {
   "cell_type": "raw",
   "id": "3a50fbb8",
   "metadata": {},
   "source": [
    "A cursor in SQL is a temporary work area created in system memory when a SQL statement is executed.\n",
    "A SQL cursor is a set of rows together with a pointer that identifies the current row.\n",
    "It is a database object to retrieve data from a result set one row at a time.\n",
    "\n"
   ]
  },
  {
   "cell_type": "code",
   "execution_count": null,
   "id": "f046ca52",
   "metadata": {},
   "outputs": [],
   "source": [
    "import sqlite3"
   ]
  },
  {
   "cell_type": "markdown",
   "id": "7487b7b5",
   "metadata": {},
   "source": [
    "Create database"
   ]
  },
  {
   "cell_type": "code",
   "execution_count": null,
   "id": "a7b9f48b",
   "metadata": {},
   "outputs": [],
   "source": [
    "db=sqlite3.connect('student_detail_database21aug.db')"
   ]
  },
  {
   "cell_type": "markdown",
   "id": "21ae232e",
   "metadata": {},
   "source": [
    "Create cursor"
   ]
  },
  {
   "cell_type": "code",
   "execution_count": null,
   "id": "885def2c",
   "metadata": {},
   "outputs": [],
   "source": [
    "cur=db.cursor()"
   ]
  },
  {
   "cell_type": "code",
   "execution_count": null,
   "id": "fba80637",
   "metadata": {
    "scrolled": true
   },
   "outputs": [],
   "source": [
    "cur.execute('create table school_student(id int primary key, name text, marks int)')"
   ]
  },
  {
   "cell_type": "raw",
   "id": "11e91c9b",
   "metadata": {},
   "source": [
    "Dont run more than once the above line because once you run it,it will create the table and if you go to run it another time then it will throw error as the table is already created."
   ]
  },
  {
   "cell_type": "code",
   "execution_count": null,
   "id": "86ada45b",
   "metadata": {
    "scrolled": true
   },
   "outputs": [],
   "source": [
    "cur.execute('insert into school_student(id, name, marks) values(101, \"John\", 78)')"
   ]
  },
  {
   "cell_type": "code",
   "execution_count": null,
   "id": "2e1d45da",
   "metadata": {},
   "outputs": [],
   "source": [
    "db.commit()"
   ]
  },
  {
   "cell_type": "code",
   "execution_count": null,
   "id": "fb293b9c",
   "metadata": {},
   "outputs": [],
   "source": [
    "cur.execute('insert into school_student(id, name, marks) values(102,\"Jacob\", 44)')"
   ]
  },
  {
   "cell_type": "code",
   "execution_count": null,
   "id": "434a0116",
   "metadata": {},
   "outputs": [],
   "source": [
    "db.commit()"
   ]
  },
  {
   "cell_type": "code",
   "execution_count": null,
   "id": "bea38a48",
   "metadata": {},
   "outputs": [],
   "source": [
    "cur.execute('insert into school_student(id, name, marks) values(103,\"Archer\", 69)')"
   ]
  },
  {
   "cell_type": "code",
   "execution_count": null,
   "id": "03900c91",
   "metadata": {},
   "outputs": [],
   "source": [
    "db.commit()"
   ]
  },
  {
   "cell_type": "code",
   "execution_count": null,
   "id": "115f6a44",
   "metadata": {},
   "outputs": [],
   "source": [
    "cur.execute('insert into school_student(id, name, marks) values(104,\"Stuart\",84)')"
   ]
  },
  {
   "cell_type": "code",
   "execution_count": null,
   "id": "8c1d8fe1",
   "metadata": {},
   "outputs": [],
   "source": [
    "db.commit()"
   ]
  },
  {
   "cell_type": "code",
   "execution_count": null,
   "id": "df25e88c",
   "metadata": {},
   "outputs": [],
   "source": [
    "results= cur.execute('select * from school_student')\n",
    "\n",
    "for i in results:\n",
    "    print(i)"
   ]
  },
  {
   "cell_type": "code",
   "execution_count": null,
   "id": "0edec73b",
   "metadata": {
    "scrolled": true
   },
   "outputs": [],
   "source": [
    "cur.execute('insert into school_student(id, name, marks) values(105,\"Macullum\", 81)')\n",
    "db.commit()"
   ]
  },
  {
   "cell_type": "code",
   "execution_count": null,
   "id": "6e0113ee",
   "metadata": {
    "scrolled": true
   },
   "outputs": [],
   "source": [
    "cur.execute('insert into school_student values(106,\"Lee\",90),(107,\"Tait\", 29),(108,\"Mitchell\",99)')\n",
    "db.commit()"
   ]
  },
  {
   "cell_type": "code",
   "execution_count": null,
   "id": "7203d3e9",
   "metadata": {},
   "outputs": [],
   "source": [
    "results=cur.execute('select * from school_students')\n",
    "\n",
    "for i in results:\n",
    "    print(i)"
   ]
  },
  {
   "cell_type": "code",
   "execution_count": null,
   "id": "a9754fc9",
   "metadata": {},
   "outputs": [],
   "source": [
    "results=cur.execute('select * from school_students')\n",
    "results.fetchall()"
   ]
  },
  {
   "cell_type": "code",
   "execution_count": null,
   "id": "5979cb94",
   "metadata": {},
   "outputs": [],
   "source": [
    "results=cur.execute('select id from school_students')\n",
    "\n",
    "for i results:\n",
    "    print(i)"
   ]
  },
  {
   "cell_type": "code",
   "execution_count": null,
   "id": "63ec5233",
   "metadata": {},
   "outputs": [],
   "source": [
    "results=cur.execute('select name from school_students')\n",
    "for i in results:\n",
    "    print(i)"
   ]
  },
  {
   "cell_type": "code",
   "execution_count": null,
   "id": "b59e1748",
   "metadata": {},
   "outputs": [],
   "source": [
    "results=cur.execute('select id, name from school_students')\n",
    "\n",
    "results.fetchall()"
   ]
  },
  {
   "cell_type": "code",
   "execution_count": null,
   "id": "4ca7b7f1",
   "metadata": {},
   "outputs": [],
   "source": [
    "results=cur.execute('select id, name, marks from school_students')\n",
    "\n",
    "results.fetchall()"
   ]
  },
  {
   "cell_type": "raw",
   "id": "5396f2f9",
   "metadata": {},
   "source": [
    "Both for loop and fetchall is the samee. But if you have more than one rows in your query try to use fetchall()"
   ]
  },
  {
   "cell_type": "code",
   "execution_count": null,
   "id": "469c3bf6",
   "metadata": {},
   "outputs": [],
   "source": [
    "results=cur.execute(\"select * from school_students where id=101\")\n",
    "\n",
    "for i in results:\n",
    "    print(i)"
   ]
  },
  {
   "cell_type": "code",
   "execution_count": null,
   "id": "aa0e7b26",
   "metadata": {},
   "outputs": [],
   "source": [
    "results=cur.execute(\"select * from school_students where id=102\")\n",
    "\n",
    "results.fetchone()"
   ]
  },
  {
   "cell_type": "raw",
   "id": "e08aad14",
   "metadata": {},
   "source": [
    "If you know that your result will be in one line then you can use fetchone() but if you result are multiple liner then you have to use for loop or fetchall."
   ]
  },
  {
   "cell_type": "code",
   "execution_count": null,
   "id": "c46ed33d",
   "metadata": {},
   "outputs": [],
   "source": [
    "results=cur.execute(\"select* from school_students where name='Mitchell'\")\n",
    "\n",
    "results.fetchone()"
   ]
  },
  {
   "cell_type": "raw",
   "id": "f7181139",
   "metadata": {},
   "source": [
    "With the help of \"in\" operator, we can find out the data of multiple values."
   ]
  },
  {
   "cell_type": "code",
   "execution_count": null,
   "id": "266fbc8f",
   "metadata": {},
   "outputs": [],
   "source": [
    "results=cur.execute(\"select * from school_students where name in('John','Lee','Mitchell')\")\n",
    "\n",
    "for i in results:\n",
    "    print(i)"
   ]
  },
  {
   "cell_type": "raw",
   "id": "80266908",
   "metadata": {},
   "source": [
    "\"Order by\" clause sort the data in ascending or descending order"
   ]
  },
  {
   "cell_type": "code",
   "execution_count": null,
   "id": "c4671081",
   "metadata": {},
   "outputs": [],
   "source": [
    "results=cur.execute(\"select * from school_student order by name asc\")\n",
    "\n",
    "for i in results:\n",
    "    print(i)"
   ]
  },
  {
   "cell_type": "markdown",
   "id": "3bfcd8e5",
   "metadata": {},
   "source": [
    "# Creating a new database"
   ]
  },
  {
   "cell_type": "code",
   "execution_count": 6,
   "id": "6475afa5",
   "metadata": {},
   "outputs": [],
   "source": [
    "import sqlite3"
   ]
  },
  {
   "cell_type": "code",
   "execution_count": 7,
   "id": "1874d2bc",
   "metadata": {},
   "outputs": [],
   "source": [
    "db=sqlite3.connect(\"school_student_databse21aug.db\")"
   ]
  },
  {
   "cell_type": "code",
   "execution_count": 8,
   "id": "55fd93f9",
   "metadata": {},
   "outputs": [],
   "source": [
    "cur=db.cursor()"
   ]
  },
  {
   "cell_type": "code",
   "execution_count": 12,
   "id": "7ba05d5b",
   "metadata": {},
   "outputs": [
    {
     "data": {
      "text/plain": [
       "<sqlite3.Cursor at 0x23c7c8315e0>"
      ]
     },
     "execution_count": 12,
     "metadata": {},
     "output_type": "execute_result"
    }
   ],
   "source": [
    "cur.execute('create table student_record(id int primary key, name text, marks int)')"
   ]
  },
  {
   "cell_type": "code",
   "execution_count": null,
   "id": "74cf1c1a",
   "metadata": {},
   "outputs": [],
   "source": [
    "cur.execute('insert into student_record(id, name, marks) values(201,\"Andrew\", 49)')\n",
    "db.commit()"
   ]
  },
  {
   "cell_type": "code",
   "execution_count": null,
   "id": "f01f3cb6",
   "metadata": {},
   "outputs": [],
   "source": [
    "cur.execute('insert into student_record(id, name, marks) values(202,\"Boston\",77)')\n",
    "db.commit()"
   ]
  },
  {
   "cell_type": "code",
   "execution_count": 10,
   "id": "4bbb379a",
   "metadata": {},
   "outputs": [
    {
     "data": {
      "text/plain": [
       "<sqlite3.Cursor at 0x2afbd966f80>"
      ]
     },
     "execution_count": 10,
     "metadata": {},
     "output_type": "execute_result"
    }
   ],
   "source": [
    "cur.execute('insert into student_record values(203,\"Flintoff\",37),(204,\"Chandwick\",83),(205,\"zayn\",79)')"
   ]
  },
  {
   "cell_type": "code",
   "execution_count": 16,
   "id": "7fe5d4dc",
   "metadata": {},
   "outputs": [
    {
     "name": "stdout",
     "output_type": "stream",
     "text": [
      "(201, 'Andrew', 49)\n",
      "(202, 'Boston', 77)\n",
      "(203, 'Flintoff', 37)\n",
      "(204, 'Chandwick', 83)\n",
      "(205, 'zayn', 79)\n"
     ]
    }
   ],
   "source": [
    "results=cur.execute('select * from student_record')\n",
    "\n",
    "for i in results:\n",
    "    print(i)"
   ]
  },
  {
   "cell_type": "code",
   "execution_count": 17,
   "id": "6ef368da",
   "metadata": {},
   "outputs": [
    {
     "name": "stdout",
     "output_type": "stream",
     "text": [
      "('Andrew',)\n",
      "('Boston',)\n",
      "('Flintoff',)\n",
      "('Chandwick',)\n",
      "('zayn',)\n"
     ]
    }
   ],
   "source": [
    "results=cur.execute('select name from student_record')\n",
    "\n",
    "for i in results:\n",
    "    print(i)"
   ]
  },
  {
   "cell_type": "code",
   "execution_count": 19,
   "id": "fa104cb3",
   "metadata": {},
   "outputs": [
    {
     "name": "stdout",
     "output_type": "stream",
     "text": [
      "(201, 'Andrew', 49)\n"
     ]
    }
   ],
   "source": [
    "results=cur.execute('select * from student_record where name=\"Andrew\"')\n",
    "\n",
    "for i in results:\n",
    "    print(i)"
   ]
  },
  {
   "cell_type": "code",
   "execution_count": 25,
   "id": "e8357ac7",
   "metadata": {},
   "outputs": [
    {
     "data": {
      "text/plain": [
       "(204, 'Chandwick', 83)"
      ]
     },
     "execution_count": 25,
     "metadata": {},
     "output_type": "execute_result"
    }
   ],
   "source": [
    "results=cur.execute('select * from student_record where name=\"Chandwick\"')\n",
    "\n",
    "results.fetchone()"
   ]
  },
  {
   "cell_type": "code",
   "execution_count": 29,
   "id": "649f9ba6",
   "metadata": {},
   "outputs": [
    {
     "data": {
      "text/plain": [
       "(203, 'Flintoff', 37)"
      ]
     },
     "execution_count": 29,
     "metadata": {},
     "output_type": "execute_result"
    }
   ],
   "source": [
    "results=cur.execute('select * from student_record where marks=37')\n",
    "\n",
    "results.fetchone()"
   ]
  },
  {
   "cell_type": "code",
   "execution_count": 30,
   "id": "26ff8f16",
   "metadata": {},
   "outputs": [
    {
     "data": {
      "text/plain": [
       "[(201, 'Andrew', 49), (202, 'Boston', 77), (203, 'Flintoff', 37)]"
      ]
     },
     "execution_count": 30,
     "metadata": {},
     "output_type": "execute_result"
    }
   ],
   "source": [
    "results=cur.execute('select * from student_record where name in(\"Andrew\",\"Flintoff\",\"Boston\")')\n",
    "\n",
    "results.fetchall()"
   ]
  },
  {
   "cell_type": "code",
   "execution_count": 34,
   "id": "2102c1f7",
   "metadata": {},
   "outputs": [
    {
     "name": "stdout",
     "output_type": "stream",
     "text": [
      "(201, 'Andrew', 49)\n",
      "(202, 'Boston', 77)\n",
      "(203, 'Flintoff', 37)\n",
      "(204, 'Chandwick', 83)\n",
      "(205, 'zayn', 79)\n"
     ]
    }
   ],
   "source": [
    "results=cur.execute('select * from student_record where id in(201,202,203,204,205)')\n",
    "\n",
    "for i in results:\n",
    "    print(i)"
   ]
  },
  {
   "cell_type": "code",
   "execution_count": 8,
   "id": "d2333827",
   "metadata": {},
   "outputs": [
    {
     "name": "stdout",
     "output_type": "stream",
     "text": [
      "(204, 'Chandwick', 83)\n"
     ]
    }
   ],
   "source": [
    "results=cur.execute('select * from student_record where id=204')\n",
    "\n",
    "for i in results:\n",
    "    print(i)"
   ]
  },
  {
   "cell_type": "code",
   "execution_count": 11,
   "id": "5d944c47",
   "metadata": {},
   "outputs": [
    {
     "data": {
      "text/plain": [
       "(203, 'Flintoff', 37)"
      ]
     },
     "execution_count": 11,
     "metadata": {},
     "output_type": "execute_result"
    }
   ],
   "source": [
    "results=cur.execute('select * from student_record where marks=37')\n",
    "\n",
    "results.fetchone()"
   ]
  },
  {
   "cell_type": "raw",
   "id": "330b7f29",
   "metadata": {},
   "source": [
    "Lets suppose you have two students whose name is Flintoff, then you will use fetchall(), it will fetch all the data of students having name Flintoff, but suppose you are searching for the student from id, then you can use fetchone() as the id of all the students will be unique."
   ]
  },
  {
   "cell_type": "code",
   "execution_count": 12,
   "id": "78c882e5",
   "metadata": {},
   "outputs": [
    {
     "data": {
      "text/plain": [
       "(202, 'Boston', 77)"
      ]
     },
     "execution_count": 12,
     "metadata": {},
     "output_type": "execute_result"
    }
   ],
   "source": [
    "results=cur.execute('select * from student_record where id=202')\n",
    "\n",
    "results.fetchone()"
   ]
  },
  {
   "cell_type": "code",
   "execution_count": 17,
   "id": "a9e9cd15",
   "metadata": {},
   "outputs": [
    {
     "name": "stdout",
     "output_type": "stream",
     "text": [
      "(201, 'Andrew', 49)\n",
      "(202, 'Boston', 77)\n",
      "(203, 'Flintoff', 37)\n",
      "(204, 'Chandwick', 83)\n"
     ]
    }
   ],
   "source": [
    "results=cur.execute('select * from student_record limit 4')\n",
    "\n",
    "for i in results:\n",
    "    print(i)"
   ]
  },
  {
   "cell_type": "raw",
   "id": "5b008a6d",
   "metadata": {},
   "source": [
    "if you want to limit your data to a certain rows you can use \"limit.\""
   ]
  },
  {
   "cell_type": "code",
   "execution_count": 18,
   "id": "f2700a5c",
   "metadata": {},
   "outputs": [
    {
     "data": {
      "text/plain": [
       "[(201, 'Andrew', 49), (203, 'Flintoff', 37), (205, 'zayn', 79)]"
      ]
     },
     "execution_count": 18,
     "metadata": {},
     "output_type": "execute_result"
    }
   ],
   "source": [
    "results=cur.execute('select * from student_record where id in(201,203,205)')\n",
    "\n",
    "results.fetchall()"
   ]
  },
  {
   "cell_type": "code",
   "execution_count": 21,
   "id": "0303d749",
   "metadata": {},
   "outputs": [
    {
     "data": {
      "text/plain": [
       "[(203, 'Flintoff', 37), (201, 'Andrew', 49), (202, 'Boston', 77)]"
      ]
     },
     "execution_count": 21,
     "metadata": {},
     "output_type": "execute_result"
    }
   ],
   "source": [
    "results=cur.execute('select * from student_record order by marks asc limit 3')\n",
    "\n",
    "results.fetchall()"
   ]
  },
  {
   "cell_type": "code",
   "execution_count": 23,
   "id": "ebe515fd",
   "metadata": {},
   "outputs": [
    {
     "data": {
      "text/plain": [
       "('Boston',)"
      ]
     },
     "execution_count": 23,
     "metadata": {},
     "output_type": "execute_result"
    }
   ],
   "source": [
    "results=cur.execute('select name from student_record where marks =77')\n",
    "\n",
    "results.fetchone()"
   ]
  },
  {
   "cell_type": "code",
   "execution_count": 24,
   "id": "e4601002",
   "metadata": {},
   "outputs": [
    {
     "name": "stdout",
     "output_type": "stream",
     "text": [
      "(202, 'Boston', 77)\n",
      "(204, 'Chandwick', 83)\n",
      "(205, 'zayn', 79)\n"
     ]
    }
   ],
   "source": [
    "results=cur.execute('select * from student_record where marks>60 and marks<90')\n",
    "\n",
    "for i in results:\n",
    "    print(i)"
   ]
  },
  {
   "cell_type": "code",
   "execution_count": 26,
   "id": "f64b1022",
   "metadata": {},
   "outputs": [
    {
     "name": "stdout",
     "output_type": "stream",
     "text": [
      "('Andrew',)\n",
      "('Boston',)\n",
      "('zayn',)\n"
     ]
    }
   ],
   "source": [
    "results=cur.execute('select name from student_record where marks>40 and marks<80')\n",
    "\n",
    "for i in results:\n",
    "    print(i)"
   ]
  },
  {
   "cell_type": "code",
   "execution_count": 28,
   "id": "867b18a0",
   "metadata": {},
   "outputs": [
    {
     "name": "stdout",
     "output_type": "stream",
     "text": [
      "(201, 'Andrew', 49)\n",
      "(202, 'Boston', 77)\n",
      "(203, 'Flintoff', 37)\n",
      "(204, 'Chandwick', 83)\n",
      "(205, 'zayn', 79)\n"
     ]
    }
   ],
   "source": [
    "results=cur.execute('select * from student_record')\n",
    "\n",
    "for i in results:\n",
    "    print(i)"
   ]
  },
  {
   "cell_type": "code",
   "execution_count": 30,
   "id": "a1d6edac",
   "metadata": {},
   "outputs": [
    {
     "name": "stdout",
     "output_type": "stream",
     "text": [
      "(203, 'Flintoff', 37)\n",
      "(201, 'Andrew', 49)\n",
      "(202, 'Boston', 77)\n",
      "(205, 'zayn', 79)\n",
      "(204, 'Chandwick', 83)\n"
     ]
    }
   ],
   "source": [
    "results=cur.execute('select * from student_record order by marks asc')\n",
    "\n",
    "for i in results:\n",
    "    print(i)"
   ]
  },
  {
   "cell_type": "code",
   "execution_count": 31,
   "id": "073807fd",
   "metadata": {},
   "outputs": [
    {
     "data": {
      "text/plain": [
       "[(202, 'Boston', 77)]"
      ]
     },
     "execution_count": 31,
     "metadata": {},
     "output_type": "execute_result"
    }
   ],
   "source": [
    "results=cur.execute('select * from student_record where name=\"Boston\" and marks=77')\n",
    "\n",
    "results.fetchall()"
   ]
  },
  {
   "cell_type": "code",
   "execution_count": 32,
   "id": "41e27ba4",
   "metadata": {},
   "outputs": [],
   "source": [
    "results=cur.execute('select * from student_record where name=\"Boston\" and marks=83')\n",
    "\n",
    "results.fetchone()"
   ]
  },
  {
   "cell_type": "raw",
   "id": "c015a37c",
   "metadata": {},
   "source": [
    "In \"and\" operator if one condition is true and other condition is false then you will never get an answer just like in above case. But in \"or\" operator if any of the condition is true then it will throw the result just like in below mention case."
   ]
  },
  {
   "cell_type": "code",
   "execution_count": 37,
   "id": "0fdd869b",
   "metadata": {},
   "outputs": [
    {
     "name": "stdout",
     "output_type": "stream",
     "text": [
      "(201, 'Andrew', 49)\n",
      "(203, 'Flintoff', 37)\n"
     ]
    }
   ],
   "source": [
    "results=cur.execute('select * from student_record where marks<70 or marks<60')\n",
    "for i in results:\n",
    "    print(i)"
   ]
  },
  {
   "cell_type": "code",
   "execution_count": 38,
   "id": "f5539856",
   "metadata": {},
   "outputs": [
    {
     "name": "stdout",
     "output_type": "stream",
     "text": [
      "(201, 'Andrew', 49)\n"
     ]
    }
   ],
   "source": [
    "results=cur.execute('select * from student_record where id=201 and marks=49')\n",
    "\n",
    "for i in results:\n",
    "    print(i)"
   ]
  },
  {
   "cell_type": "code",
   "execution_count": 39,
   "id": "103111e3",
   "metadata": {},
   "outputs": [],
   "source": [
    "results=cur.execute('select * from student_record where id=201 and marks=55')\n",
    "\n",
    "for i in results:\n",
    "    print(i)"
   ]
  },
  {
   "cell_type": "code",
   "execution_count": 40,
   "id": "1b58dea5",
   "metadata": {},
   "outputs": [
    {
     "name": "stdout",
     "output_type": "stream",
     "text": [
      "(201, 'Andrew', 49)\n",
      "(203, 'Flintoff', 37)\n"
     ]
    }
   ],
   "source": [
    "results=cur.execute('select * from student_record where id=203 or name=\"Andrew\"')\n",
    "\n",
    "for i in results:\n",
    "    print(i)"
   ]
  },
  {
   "cell_type": "markdown",
   "id": "4fbd3dba",
   "metadata": {},
   "source": [
    "# Aggregate functions"
   ]
  },
  {
   "cell_type": "code",
   "execution_count": 41,
   "id": "f9f3a91e",
   "metadata": {},
   "outputs": [
    {
     "name": "stdout",
     "output_type": "stream",
     "text": [
      "(83,)\n"
     ]
    }
   ],
   "source": [
    "results=cur.execute('select max(marks) from student_record')\n",
    "\n",
    "for i in results:\n",
    "    print(i)"
   ]
  },
  {
   "cell_type": "code",
   "execution_count": 42,
   "id": "0091e9af",
   "metadata": {},
   "outputs": [
    {
     "name": "stdout",
     "output_type": "stream",
     "text": [
      "(37,)\n"
     ]
    }
   ],
   "source": [
    "results=cur.execute('select min(marks) from student_record')\n",
    "\n",
    "for i in results:\n",
    "    print(i)"
   ]
  },
  {
   "cell_type": "code",
   "execution_count": 43,
   "id": "6a7722e3",
   "metadata": {},
   "outputs": [
    {
     "name": "stdout",
     "output_type": "stream",
     "text": [
      "(5,)\n"
     ]
    }
   ],
   "source": [
    "results=cur.execute('select count(id) from student_record')\n",
    "\n",
    "for i in results:\n",
    "    print(i)"
   ]
  },
  {
   "cell_type": "code",
   "execution_count": 44,
   "id": "b6446b73",
   "metadata": {},
   "outputs": [
    {
     "name": "stdout",
     "output_type": "stream",
     "text": [
      "(65.0,)\n"
     ]
    }
   ],
   "source": [
    "results=cur.execute('select avg(marks) from student_record')\n",
    "\n",
    "for i in results:\n",
    "    print(i)"
   ]
  },
  {
   "cell_type": "code",
   "execution_count": 45,
   "id": "246f8abb",
   "metadata": {},
   "outputs": [
    {
     "name": "stdout",
     "output_type": "stream",
     "text": [
      "(325,)\n"
     ]
    }
   ],
   "source": [
    "results=cur.execute('select sum(marks) from student_record')\n",
    "\n",
    "for i in results:\n",
    "    print(i)"
   ]
  },
  {
   "cell_type": "code",
   "execution_count": 49,
   "id": "873bf1be",
   "metadata": {},
   "outputs": [],
   "source": [
    "#null\n",
    "results=cur.execute('select * from student_record where marks is null')\n",
    "\n",
    "for i in results:\n",
    "    print(i)"
   ]
  },
  {
   "cell_type": "code",
   "execution_count": 50,
   "id": "caa6d97e",
   "metadata": {},
   "outputs": [
    {
     "name": "stdout",
     "output_type": "stream",
     "text": [
      "(201, 'Andrew', 49)\n",
      "(202, 'Boston', 77)\n",
      "(203, 'Flintoff', 37)\n",
      "(204, 'Chandwick', 83)\n",
      "(205, 'zayn', 79)\n"
     ]
    }
   ],
   "source": [
    "#not null\n",
    "results=cur.execute('select * from student_record where marks is not null')\n",
    "\n",
    "for i in results:\n",
    "    print(i)"
   ]
  },
  {
   "cell_type": "markdown",
   "id": "598b5f9e",
   "metadata": {},
   "source": [
    "Pattern matching characters"
   ]
  },
  {
   "cell_type": "raw",
   "id": "d196b0ac",
   "metadata": {},
   "source": [
    "If you want to fetch some names starting with a particular alphabet or you want to perform something in which you want to fetch similar data, then we use \"like\" function. It goes in this manner \"like 'D%'\" and \"like'_a%'\", for example if you have Dorsey and David names in you names column it will show you both the names as both starting from 'D'(means we need names which is staring from D and after that it could be anything). In this \"%\" defines \"many\" means show us all the names starting from D and \"_\" defines one character.First character could be anything then in between there is \"a\" and after that there can be any character or after that there is no character.Similarly in this way \"__s%\" defines first two character can be anything after that there is somewhere \"s\" in between and after that there can be any character or there cant be."
   ]
  },
  {
   "cell_type": "code",
   "execution_count": 53,
   "id": "090bf096",
   "metadata": {},
   "outputs": [
    {
     "name": "stdout",
     "output_type": "stream",
     "text": [
      "(203, 'Flintoff', 37)\n"
     ]
    }
   ],
   "source": [
    "#Here we have only one name starting from \"F\",if we have more than one it could have shown us all.\n",
    "results=cur.execute('select * from student_record where name like \"F%\"')\n",
    "\n",
    "for i in results:\n",
    "    print(i)"
   ]
  },
  {
   "cell_type": "code",
   "execution_count": 54,
   "id": "209760aa",
   "metadata": {},
   "outputs": [
    {
     "name": "stdout",
     "output_type": "stream",
     "text": [
      "(205, 'zayn', 79)\n"
     ]
    }
   ],
   "source": [
    "results=cur.execute('select * from student_record where name like \"_a%\"')\n",
    "\n",
    "for i in results:\n",
    "    print(i)"
   ]
  },
  {
   "cell_type": "code",
   "execution_count": 55,
   "id": "470cfc27",
   "metadata": {},
   "outputs": [
    {
     "name": "stdout",
     "output_type": "stream",
     "text": [
      "(203, 'Flintoff', 37)\n"
     ]
    }
   ],
   "source": [
    "results=cur.execute('select * from student_record where name like\"____t%\"')\n",
    "\n",
    "for i in results:\n",
    "    print(i)"
   ]
  },
  {
   "cell_type": "code",
   "execution_count": 56,
   "id": "7f15bb7e",
   "metadata": {},
   "outputs": [
    {
     "name": "stdout",
     "output_type": "stream",
     "text": [
      "(202, 'Boston', 77)\n",
      "(203, 'Flintoff', 37)\n"
     ]
    }
   ],
   "source": [
    "results=cur.execute('select * from student_record where name like \"%t%\"')\n",
    "\n",
    "for i in results:\n",
    "    print(i)"
   ]
  },
  {
   "cell_type": "code",
   "execution_count": 57,
   "id": "bc1a2f3f",
   "metadata": {},
   "outputs": [
    {
     "name": "stdout",
     "output_type": "stream",
     "text": [
      "(201, 'Andrew', 49)\n"
     ]
    }
   ],
   "source": [
    "results=cur.execute('select * from student_record where name like \"%w\"')\n",
    "\n",
    "for i in results:\n",
    "    print(i)"
   ]
  },
  {
   "cell_type": "code",
   "execution_count": 59,
   "id": "2ff57d49",
   "metadata": {},
   "outputs": [
    {
     "name": "stdout",
     "output_type": "stream",
     "text": [
      "(205, 'zayn', 79)\n"
     ]
    }
   ],
   "source": [
    "#display name having only four character.\n",
    "results=cur.execute('select * from student_record where name like \"____\"')\n",
    "\n",
    "for i in results:\n",
    "    print(i)"
   ]
  },
  {
   "cell_type": "code",
   "execution_count": 60,
   "id": "1cd53ad2",
   "metadata": {},
   "outputs": [
    {
     "name": "stdout",
     "output_type": "stream",
     "text": [
      "(201, 'Andrew', 49)\n",
      "(203, 'Flintoff', 37)\n",
      "(205, 'zayn', 79)\n"
     ]
    }
   ],
   "source": [
    "#\"NOT in\" is the opposite of in.\n",
    "results=cur.execute('select * from student_record where id not in(202,204)')\n",
    "\n",
    "for i in results:\n",
    "    print(i)"
   ]
  },
  {
   "cell_type": "markdown",
   "id": "5f72e18f",
   "metadata": {},
   "source": [
    "# Update record"
   ]
  },
  {
   "cell_type": "raw",
   "id": "7cccd57c",
   "metadata": {},
   "source": [
    "You can change or update your table using update command in this way.\n",
    "   xyz=update<tablename> where<columnname>=<value> where <columnname>=<value>\n",
    "Make sure to write \"where\" command otherwise it will update the whole column."
   ]
  },
  {
   "cell_type": "code",
   "execution_count": 11,
   "id": "0df893e9",
   "metadata": {},
   "outputs": [
    {
     "name": "stdout",
     "output_type": "stream",
     "text": [
      "(201, 'Andrew', 49)\n",
      "(202, 'Boston', 77)\n",
      "(203, 'Flintoff', 37)\n",
      "(204, 'Chandwick', 83)\n",
      "(205, 'zayn', 79)\n"
     ]
    }
   ],
   "source": [
    "results=cur.execute('select * from student_record')\n",
    "\n",
    "for i in results:\n",
    "    print(i)"
   ]
  },
  {
   "cell_type": "code",
   "execution_count": 12,
   "id": "307b17fb",
   "metadata": {},
   "outputs": [
    {
     "data": {
      "text/plain": [
       "<sqlite3.Cursor at 0x2afbd966f80>"
      ]
     },
     "execution_count": 12,
     "metadata": {},
     "output_type": "execute_result"
    }
   ],
   "source": [
    "#update the record\n",
    "sql=\"update student_record set marks=81 where id=204\"\n",
    "cur.execute(sql)"
   ]
  },
  {
   "cell_type": "code",
   "execution_count": 13,
   "id": "18767a0f",
   "metadata": {},
   "outputs": [
    {
     "name": "stdout",
     "output_type": "stream",
     "text": [
      "(201, 'Andrew', 49)\n",
      "(202, 'Boston', 77)\n",
      "(203, 'Flintoff', 37)\n",
      "(204, 'Chandwick', 81)\n",
      "(205, 'zayn', 79)\n"
     ]
    }
   ],
   "source": [
    "results=cur.execute('select * from student_record')\n",
    "\n",
    "for i in results:\n",
    "    print(i)"
   ]
  },
  {
   "cell_type": "code",
   "execution_count": 15,
   "id": "e0b62f9c",
   "metadata": {},
   "outputs": [
    {
     "data": {
      "text/plain": [
       "<sqlite3.Cursor at 0x2afbd966f80>"
      ]
     },
     "execution_count": 15,
     "metadata": {},
     "output_type": "execute_result"
    }
   ],
   "source": [
    "#multiple records update\n",
    "sql=\"update student_record set marks=55 where id in(201,205)\"\n",
    "cur.execute(sql)"
   ]
  },
  {
   "cell_type": "code",
   "execution_count": 16,
   "id": "a4432db1",
   "metadata": {},
   "outputs": [
    {
     "name": "stdout",
     "output_type": "stream",
     "text": [
      "(201, 'Johnson', 55)\n",
      "(202, 'Boston', 77)\n",
      "(203, 'Flintoff', 37)\n",
      "(204, 'Chandwick', 81)\n",
      "(205, 'zayn', 55)\n"
     ]
    }
   ],
   "source": [
    "results=cur.execute('select * from student_record')\n",
    "\n",
    "for i in results:\n",
    "    print(i)"
   ]
  },
  {
   "cell_type": "markdown",
   "id": "38eabe77",
   "metadata": {},
   "source": [
    "# Deleting the data"
   ]
  },
  {
   "cell_type": "raw",
   "id": "0d1917d8",
   "metadata": {},
   "source": [
    "if you want to delete a certain row you can use\"delete\" command.\n",
    "make sure to use \"where\" command also otherwise it will delete the entire table."
   ]
  },
  {
   "cell_type": "code",
   "execution_count": 17,
   "id": "e0dd077b",
   "metadata": {},
   "outputs": [
    {
     "data": {
      "text/plain": [
       "<sqlite3.Cursor at 0x2afbd966f80>"
      ]
     },
     "execution_count": 17,
     "metadata": {},
     "output_type": "execute_result"
    }
   ],
   "source": [
    "sql=\"delete from student_record where id=205\"\n",
    "cur.execute(sql)"
   ]
  },
  {
   "cell_type": "code",
   "execution_count": 19,
   "id": "77293d6a",
   "metadata": {},
   "outputs": [
    {
     "name": "stdout",
     "output_type": "stream",
     "text": [
      "(201, 'Johnson', 55)\n",
      "(202, 'Boston', 77)\n",
      "(203, 'Flintoff', 37)\n",
      "(204, 'Chandwick', 81)\n"
     ]
    }
   ],
   "source": [
    "results=cur.execute('select * from student_record')\n",
    "\n",
    "for i in results:\n",
    "    print(i)"
   ]
  },
  {
   "cell_type": "code",
   "execution_count": 21,
   "id": "d4340aa8",
   "metadata": {},
   "outputs": [
    {
     "data": {
      "text/plain": [
       "<sqlite3.Cursor at 0x2afbd966f80>"
      ]
     },
     "execution_count": 21,
     "metadata": {},
     "output_type": "execute_result"
    }
   ],
   "source": [
    "sql=\"insert into student_record values(205,'Devilliers',66),(206,'Harris',71),(207,'Botham',98)\"\n",
    "cur.execute(sql)"
   ]
  },
  {
   "cell_type": "code",
   "execution_count": 22,
   "id": "f919d273",
   "metadata": {},
   "outputs": [
    {
     "name": "stdout",
     "output_type": "stream",
     "text": [
      "(201, 'Johnson', 55)\n",
      "(202, 'Boston', 77)\n",
      "(203, 'Flintoff', 37)\n",
      "(204, 'Chandwick', 81)\n",
      "(205, 'Devilliers', 66)\n",
      "(206, 'Harris', 71)\n",
      "(207, 'Botham', 98)\n"
     ]
    }
   ],
   "source": [
    "results=cur.execute('select * from student_record')\n",
    "\n",
    "for i in results:\n",
    "    print(i)"
   ]
  },
  {
   "cell_type": "markdown",
   "id": "ac06825c",
   "metadata": {},
   "source": [
    "# inserting records from csv file"
   ]
  },
  {
   "cell_type": "code",
   "execution_count": 7,
   "id": "acf9b810",
   "metadata": {},
   "outputs": [
    {
     "data": {
      "text/plain": [
       "<sqlite3.Cursor at 0x10ec52916c0>"
      ]
     },
     "execution_count": 7,
     "metadata": {},
     "output_type": "execute_result"
    }
   ],
   "source": [
    "cursor.execute('insert into scores values(\"Male\", 501, 74),(\"Female\",502,87),(\"Female\",503,45),(\"Male\",504,39),(\"Female\",505,89), (\"Male\",506,77),(\"Male\",507,100),(\"Female\",508,12),(\"Male\",509,71),(\"Male\",510,45),(\"Female\",511,70),(\"Male\",512,55)')"
   ]
  },
  {
   "cell_type": "code",
   "execution_count": 8,
   "id": "e5d60187",
   "metadata": {},
   "outputs": [
    {
     "name": "stdout",
     "output_type": "stream",
     "text": [
      "('Male', 501, 74)\n",
      "('Female', 502, 87)\n",
      "('Female', 503, 45)\n",
      "('Male', 504, 39)\n",
      "('Female', 505, 89)\n",
      "('Male', 506, 77)\n",
      "('Male', 507, 100)\n",
      "('Female', 508, 12)\n",
      "('Male', 509, 71)\n",
      "('Male', 510, 45)\n",
      "('Female', 511, 70)\n",
      "('Male', 512, 55)\n"
     ]
    }
   ],
   "source": [
    "results=cursor.execute(\"select * from scores\")\n",
    "\n",
    "for i in results:\n",
    "    print(i)"
   ]
  },
  {
   "cell_type": "raw",
   "id": "c745e959",
   "metadata": {},
   "source": [
    "Primary key means the value should be \"Unique\" and \"not Blank\". Difference between \"Primary Key\" and \"Unique\" is that in primary key both the condition needs to be fulfilled i.e. \"Unique\" and \"not blank\" but in \"Unique\" the values can be \"Unique\" or can also be \"NULL\", inside the \"Unique\" we can put the blank value but not in \"Primary Key\".\n",
    "\n",
    "UNIQUE-- enter only unique values, no duplicate values\n",
    "not null--no blank values can be inserted in table"
   ]
  },
  {
   "cell_type": "code",
   "execution_count": 10,
   "id": "044c854d",
   "metadata": {},
   "outputs": [],
   "source": [
    "import sqlite3"
   ]
  },
  {
   "cell_type": "code",
   "execution_count": 11,
   "id": "790003ad",
   "metadata": {},
   "outputs": [],
   "source": [
    "db=sqlite3.connect(\"C:\\\\Users\\\\ankush.parkhad\\\\Documents\\\\database folder(1)\\\\sports_database.db\")"
   ]
  },
  {
   "cell_type": "code",
   "execution_count": 12,
   "id": "ac300f64",
   "metadata": {},
   "outputs": [],
   "source": [
    "cur=db.cursor()"
   ]
  },
  {
   "cell_type": "code",
   "execution_count": 13,
   "id": "f3ebe307",
   "metadata": {},
   "outputs": [
    {
     "data": {
      "text/plain": [
       "<sqlite3.Cursor at 0x10ec6df2d50>"
      ]
     },
     "execution_count": 13,
     "metadata": {},
     "output_type": "execute_result"
    }
   ],
   "source": [
    "cur.execute(\"create table sport(id int primary key, sportname text unique, dateofevent date, country text not null)\")"
   ]
  },
  {
   "cell_type": "code",
   "execution_count": 14,
   "id": "b4330d8f",
   "metadata": {},
   "outputs": [
    {
     "data": {
      "text/plain": [
       "<sqlite3.Cursor at 0x10ec6df2d50>"
      ]
     },
     "execution_count": 14,
     "metadata": {},
     "output_type": "execute_result"
    }
   ],
   "source": [
    "cur.execute(\"insert into sport values(1,'cricket', 2022-11-08, 'Australia')\")"
   ]
  },
  {
   "cell_type": "code",
   "execution_count": 16,
   "id": "b56f3e40",
   "metadata": {},
   "outputs": [],
   "source": [
    "#This line will throw error as sportname is unique---- unique constraint failed\n",
    "#cur.execute(\"insert into sport values(2,'cricket', 2022-11-10, 'England')\")"
   ]
  },
  {
   "cell_type": "code",
   "execution_count": null,
   "id": "40db954f",
   "metadata": {},
   "outputs": [],
   "source": [
    "#This query will throw error: not null constraint  : can not leave any field blank\n",
    "#cur.execute(\"insert into sport(3,'Tennis', 2022-11-12, NULL)\")"
   ]
  },
  {
   "cell_type": "markdown",
   "id": "071720a2",
   "metadata": {},
   "source": [
    "\n",
    "# Employee database with DB and Python programmatically"
   ]
  },
  {
   "cell_type": "raw",
   "id": "07619547",
   "metadata": {},
   "source": [
    "right now we are just righting query directly, we but now lets learn to write it in a progamming language(Programmatically), we can make the user-defined function and then write the query and then call it. \n",
    "It is not necessary to write query in this way it is just for our conceptual understanding."
   ]
  },
  {
   "cell_type": "code",
   "execution_count": 20,
   "id": "f8d650f2",
   "metadata": {},
   "outputs": [],
   "source": [
    "import sqlite3 "
   ]
  },
  {
   "cell_type": "code",
   "execution_count": 23,
   "id": "16fcf148",
   "metadata": {},
   "outputs": [],
   "source": [
    "con=sqlite3.connect(\"C:\\\\Users\\\\ankush.parkhad\\\\Documents\\\\database folder(1)\\\\emp_database.db\")"
   ]
  },
  {
   "cell_type": "code",
   "execution_count": 31,
   "id": "db5bc0ee",
   "metadata": {},
   "outputs": [],
   "source": [
    "def sql_table(con):\n",
    "    cur=con.cursor()\n",
    "    cur.execute(\"create table employee(id integer primary key, name text, salary real,department text, position text, dateofjoining date)\")\n",
    "    con.commit()"
   ]
  },
  {
   "cell_type": "code",
   "execution_count": 40,
   "id": "db819d13",
   "metadata": {},
   "outputs": [
    {
     "data": {
      "text/plain": [
       "<sqlite3.Cursor at 0x10ec71d10a0>"
      ]
     },
     "execution_count": 40,
     "metadata": {},
     "output_type": "execute_result"
    }
   ],
   "source": [
    "cur=con.cursor()\n",
    "cur.execute(\"insert into employee values(2,'Johnson',8000, 'Marketing','Officer','2020-07-09')\")"
   ]
  },
  {
   "cell_type": "code",
   "execution_count": 41,
   "id": "53034d46",
   "metadata": {},
   "outputs": [
    {
     "name": "stdout",
     "output_type": "stream",
     "text": [
      "(1, 'Jack', 9000.0, 'HR', 'Manager', '2019-07-09')\n",
      "(2, 'Johnson', 8000.0, 'Marketing', 'Officer', '2020-07-09')\n"
     ]
    }
   ],
   "source": [
    "results=cur.execute('select * from employee')\n",
    "for i in results:\n",
    "    print(i)"
   ]
  },
  {
   "cell_type": "raw",
   "id": "978eae7e",
   "metadata": {},
   "source": [
    "Question mark means dynamic values, we have to give run time data, run time data means any data and that data would be inserted in place of question mark.\n",
    "\n",
    "Entities are raw data in which you can put any value,entity is not any keyword you can give it any name. Entities is nothing but rows"
   ]
  },
  {
   "cell_type": "raw",
   "id": "e60cdacd",
   "metadata": {},
   "source": [
    "We can also pass values\\arguments to an INSERT statement in the execute() method. You can use the question mark(?) as a placeholder for each value. The syntax of the INSERT will be like the following:\n",
    "\n",
    "cur.execute('insert into employee(id, name, salary, department, position, dateofjoining) values (?,?,?,?,?,?)', entities)\n",
    "entities=(2,\"John\", 4000, 'Engineer',2022-09-01)"
   ]
  },
  {
   "cell_type": "code",
   "execution_count": 45,
   "id": "3bf56861",
   "metadata": {},
   "outputs": [],
   "source": [
    "def sql_insert(con,entities):\n",
    "    cur=con.cursor()\n",
    "    cur.execute('insert into employee(id, name, salary, department, position, dateofjoining) values(?,?,?,?,?,?)', entities)"
   ]
  },
  {
   "cell_type": "code",
   "execution_count": 62,
   "id": "900bc1ac",
   "metadata": {},
   "outputs": [],
   "source": [
    "entities=(3,'Andrew', 7000,'IT', 'Engineer', '2016-04-06')\n"
   ]
  },
  {
   "cell_type": "code",
   "execution_count": 64,
   "id": "f224cc7f",
   "metadata": {},
   "outputs": [],
   "source": [
    "entities=(5,'Marcus',14000,'IT', 'Engineer','2012-08-19')"
   ]
  },
  {
   "cell_type": "code",
   "execution_count": 49,
   "id": "72fb65cf",
   "metadata": {},
   "outputs": [],
   "source": [
    "entities=(4,'Misbah', 12000, 'Sales', 'jfhgrlkfh', '2015-08-09')\n",
    "sql_insert(con,entities)"
   ]
  },
  {
   "cell_type": "code",
   "execution_count": 50,
   "id": "387f1e2a",
   "metadata": {},
   "outputs": [],
   "source": [
    "def sql_update(con):\n",
    "    cur=con.cursor()\n",
    "    cur.execute('update employee set name=\"Martin\" where id=1')\n",
    "    con.commit()"
   ]
  },
  {
   "cell_type": "code",
   "execution_count": 51,
   "id": "d8fd3490",
   "metadata": {},
   "outputs": [],
   "source": [
    "sql_update(con)"
   ]
  },
  {
   "cell_type": "code",
   "execution_count": 52,
   "id": "2f0a6be4",
   "metadata": {},
   "outputs": [
    {
     "name": "stdout",
     "output_type": "stream",
     "text": [
      "(1, 'Martin', 9000.0, 'HR', 'Manager', '2019-07-09')\n",
      "(2, 'Johnson', 8000.0, 'Marketing', 'Officer', '2020-07-09')\n",
      "(3, 'Andrew', 7000.0, 'IT', 'Engineer', '2016-04-06')\n",
      "(4, 'Misbah', 12000.0, 'Sales', 'jfhgrlkfh', '2015-08-09')\n"
     ]
    }
   ],
   "source": [
    "results=cur.execute('select * from employee')\n",
    "\n",
    "for i in results:\n",
    "    print(i)"
   ]
  },
  {
   "cell_type": "code",
   "execution_count": 53,
   "id": "7f07ef27",
   "metadata": {},
   "outputs": [
    {
     "data": {
      "text/plain": [
       "(7000.0,)"
      ]
     },
     "execution_count": 53,
     "metadata": {},
     "output_type": "execute_result"
    }
   ],
   "source": [
    "results=cur.execute('select min(salary) from employee')\n",
    "\n",
    "results.fetchone()"
   ]
  },
  {
   "cell_type": "code",
   "execution_count": 54,
   "id": "558be499",
   "metadata": {},
   "outputs": [
    {
     "data": {
      "text/plain": [
       "[(4,)]"
      ]
     },
     "execution_count": 54,
     "metadata": {},
     "output_type": "execute_result"
    }
   ],
   "source": [
    "results=cur.execute('select count(id) from employee')\n",
    "results.fetchall()"
   ]
  },
  {
   "cell_type": "code",
   "execution_count": 55,
   "id": "315fd7e8",
   "metadata": {},
   "outputs": [
    {
     "data": {
      "text/plain": [
       "[('HR',), ('Marketing',), ('IT',), ('Sales',)]"
      ]
     },
     "execution_count": 55,
     "metadata": {},
     "output_type": "execute_result"
    }
   ],
   "source": [
    "results=cur.execute('select distinct(department) from employee')\n",
    "results.fetchall()"
   ]
  },
  {
   "cell_type": "code",
   "execution_count": 56,
   "id": "0835dc4a",
   "metadata": {},
   "outputs": [
    {
     "data": {
      "text/plain": [
       "[(4,)]"
      ]
     },
     "execution_count": 56,
     "metadata": {},
     "output_type": "execute_result"
    }
   ],
   "source": [
    "results=cur.execute('select count(distinct(department)) from employee')\n",
    "results.fetchall()"
   ]
  },
  {
   "cell_type": "raw",
   "id": "0e745b26",
   "metadata": {},
   "source": [
    "Group by is used to make group on a particular grouping. Like we want to group salary of IT department then we use group by."
   ]
  },
  {
   "cell_type": "markdown",
   "id": "b7885100",
   "metadata": {},
   "source": [
    "# Referential Integrity"
   ]
  },
  {
   "cell_type": "raw",
   "id": "22e971ee",
   "metadata": {},
   "source": [
    "If we have two tables in our database and both the tables have some columns common, we will not repeat the same coloumn and to avoid the duplicasy we will make a foreign key in second table so as it will not repeat any data which is present in our base table.\n",
    "\n",
    "Foreign key is a kind of key which is also known as \"Referential Integrity\" which will allow to enter the data into the derived table if and only if the data is present in the base table primary key, if the data is not present in the base table primary key then that data cannot be entered into our new table. So this is basically a \"Refrential Intergrity\" which means one can make the foreign key data avaiable if and only if the data is present in the base table.\n",
    "\n",
    "We can link the two table with the \"Help of Referential Integrity\" without making any data duplicasy, without making any columnn repititon. So if in any table we have made the primary key we can make the Foreign key in the second key and avoid duplicasy.\n",
    "\n",
    "Both Primary key and foreign key is helping to make link between two tables without any repetiton of data."
   ]
  },
  {
   "cell_type": "raw",
   "id": "3ccffe75",
   "metadata": {},
   "source": [
    "Referential Integrity is used to maintain the data consistency between two tables, Rules are made in the database structure about how foreign keys should be used to ensure that changes, addition and deletion in the database maintain the data integrity. The referential integrity constraints state that if a foreign key in the first table refers to the primary key of the second table then every value of foreign key in the first table should either be null or present in the second table."
   ]
  },
  {
   "cell_type": "code",
   "execution_count": 2,
   "id": "76fffd6a",
   "metadata": {},
   "outputs": [],
   "source": [
    "import sqlite3"
   ]
  },
  {
   "cell_type": "code",
   "execution_count": 3,
   "id": "9dae4dcd",
   "metadata": {},
   "outputs": [],
   "source": [
    "db=sqlite3.connect('C:\\\\Users\\\\ankush.parkhad\\\\Documents\\\\database folder(1)\\\\student_course_databse.db')"
   ]
  },
  {
   "cell_type": "code",
   "execution_count": 4,
   "id": "67e5430b",
   "metadata": {},
   "outputs": [],
   "source": [
    "cur=db.cursor()"
   ]
  },
  {
   "cell_type": "raw",
   "id": "fa993af0",
   "metadata": {},
   "source": [
    "constraints ----\n",
    "unique -- enter only unique values, no duplicate values\n",
    "not null -- no blank values can be inserted in table"
   ]
  },
  {
   "cell_type": "code",
   "execution_count": null,
   "id": "0f98fcde",
   "metadata": {},
   "outputs": [],
   "source": [
    "cur.execute(\"create table course(courseid int primary key, coursename text, duration int)\")"
   ]
  },
  {
   "cell_type": "code",
   "execution_count": 6,
   "id": "0f408175",
   "metadata": {},
   "outputs": [
    {
     "data": {
      "text/plain": [
       "<sqlite3.Cursor at 0x1aaae08fe30>"
      ]
     },
     "execution_count": 6,
     "metadata": {},
     "output_type": "execute_result"
    }
   ],
   "source": [
    "cur.execute(\"create table student(roll_no int primary key, studentname text, age int, courseid int, foreign key(courseid) references course(courseid))\")\n",
    "#foreign key(courseid) references course(courseid) means foreign key(courseid) is referring to courseid of course table and linking both the table through it."
   ]
  },
  {
   "cell_type": "code",
   "execution_count": 5,
   "id": "d90eb1ff",
   "metadata": {},
   "outputs": [
    {
     "name": "stdout",
     "output_type": "stream",
     "text": [
      "3 record(s) inserted\n"
     ]
    }
   ],
   "source": [
    "cur.execute(\"insert into course values(78,'Data Science', 12),(56,'Python Course',4),(101,'Database',7)\")\n",
    "print(cur.rowcount,\"record(s) inserted\")                            \n",
    "db.commit()"
   ]
  },
  {
   "cell_type": "code",
   "execution_count": 7,
   "id": "1b13c2b8",
   "metadata": {},
   "outputs": [
    {
     "name": "stdout",
     "output_type": "stream",
     "text": [
      "4 record(s) inserted\n"
     ]
    }
   ],
   "source": [
    "cur.execute(\"insert into student values(1,'Jack',22, 78),(2,'John', 21, 56),(3,'Rudolf', 18 ,78),(4,'Jim', 21, 56)\")\n",
    "print(cur.rowcount,\"record(s) inserted\")\n",
    "db.commit() "
   ]
  },
  {
   "cell_type": "code",
   "execution_count": 8,
   "id": "fab19515",
   "metadata": {},
   "outputs": [
    {
     "data": {
      "text/plain": [
       "[(78, 'Data Science', 12), (56, 'Python Course', 4), (101, 'Database', 7)]"
      ]
     },
     "execution_count": 8,
     "metadata": {},
     "output_type": "execute_result"
    }
   ],
   "source": [
    "results=cur.execute('select * from course')\n",
    "results.fetchall()"
   ]
  },
  {
   "cell_type": "code",
   "execution_count": 9,
   "id": "d3199711",
   "metadata": {},
   "outputs": [
    {
     "data": {
      "text/plain": [
       "[(1, 'Jack', 22, 78),\n",
       " (2, 'John', 21, 56),\n",
       " (3, 'Rudolf', 18, 78),\n",
       " (4, 'Jim', 21, 56)]"
      ]
     },
     "execution_count": 9,
     "metadata": {},
     "output_type": "execute_result"
    }
   ],
   "source": [
    "results=cur.execute('select * from student')\n",
    "results.fetchall()"
   ]
  },
  {
   "cell_type": "code",
   "execution_count": 12,
   "id": "fc30c135",
   "metadata": {},
   "outputs": [
    {
     "name": "stdout",
     "output_type": "stream",
     "text": [
      "(78,)\n"
     ]
    }
   ],
   "source": [
    "results=cur.execute('select courseid from course where coursename=\"Data Science\"')\n",
    "for i in results:\n",
    "    print(i)"
   ]
  },
  {
   "cell_type": "markdown",
   "id": "bb373356",
   "metadata": {},
   "source": [
    "# Subquery"
   ]
  },
  {
   "cell_type": "code",
   "execution_count": 14,
   "id": "03f7ae1c",
   "metadata": {},
   "outputs": [
    {
     "data": {
      "text/plain": [
       "[(1, 'Jack', 22, 78), (3, 'Rudolf', 18, 78)]"
      ]
     },
     "execution_count": 14,
     "metadata": {},
     "output_type": "execute_result"
    }
   ],
   "source": [
    "#this is how to use referential intergrity\n",
    "#Subquery means query inside a query\n",
    "#first wirte inner query(select courseid from course where coursename=\"Data Science\")\n",
    "#Then write outer query(\"select * from student where courseid=\")\n",
    "\n",
    "results=cur.execute('select * from student where courseid=(select courseid from course where coursename=\"Data Science\")')\n",
    "results.fetchall()"
   ]
  },
  {
   "cell_type": "code",
   "execution_count": 15,
   "id": "796da1b5",
   "metadata": {},
   "outputs": [
    {
     "data": {
      "text/plain": [
       "[(2, 'John', 21, 56), (4, 'Jim', 21, 56)]"
      ]
     },
     "execution_count": 15,
     "metadata": {},
     "output_type": "execute_result"
    }
   ],
   "source": [
    "results=cur.execute('select * from student where courseid=(select courseid from course where coursename=\"Python Course\")')\n",
    "results.fetchall()"
   ]
  },
  {
   "cell_type": "markdown",
   "id": "049d0a68",
   "metadata": {},
   "source": [
    "# JOIN"
   ]
  },
  {
   "cell_type": "raw",
   "id": "93543f83",
   "metadata": {},
   "source": [
    "DIFFERENT TYPES OF SQL JOINs\n",
    "1.(INNER) JOIN: Returns records that have matching values in both tables.\n",
    "2.LEFT(OUTER) JOIN: Returns all records from the left table, and the matched records from the right table.\n",
    "3.RIGHT(OUTER) JOIN: Returns all records from the right table, and the matched records form the left table.\n",
    "4.FULL(OUTER) JOIN: Returns all records when there is a matvh in either left or right table."
   ]
  },
  {
   "cell_type": "code",
   "execution_count": 18,
   "id": "0a7ddb0d",
   "metadata": {},
   "outputs": [
    {
     "data": {
      "text/plain": [
       "[(1, 'Jack', 78, 'Data Science'),\n",
       " (2, 'John', 56, 'Python Course'),\n",
       " (3, 'Rudolf', 78, 'Data Science'),\n",
       " (4, 'Jim', 56, 'Python Course')]"
      ]
     },
     "execution_count": 18,
     "metadata": {},
     "output_type": "execute_result"
    }
   ],
   "source": [
    "sql='select student.roll_no, student.studentname, course.courseid, course.coursename FROM student INNER JOIN course ON student.courseid = course.courseid'\n",
    "results=cur.execute(sql)\n",
    "results.fetchall()"
   ]
  },
  {
   "cell_type": "code",
   "execution_count": 19,
   "id": "b41a87ea",
   "metadata": {},
   "outputs": [
    {
     "data": {
      "text/plain": [
       "[(1, 'Jack', 78, 'Data Science'),\n",
       " (2, 'John', 56, 'Python Course'),\n",
       " (3, 'Rudolf', 78, 'Data Science'),\n",
       " (4, 'Jim', 56, 'Python Course')]"
      ]
     },
     "execution_count": 19,
     "metadata": {},
     "output_type": "execute_result"
    }
   ],
   "source": [
    "sql='select student.roll_no, student.studentname, course.courseid, course.coursename FROM student LEFT JOIN course ON student.courseid = course.courseid'\n",
    "results=cur.execute(sql)\n",
    "results.fetchall()"
   ]
  },
  {
   "cell_type": "code",
   "execution_count": 20,
   "id": "a4fd291c",
   "metadata": {},
   "outputs": [
    {
     "data": {
      "text/plain": [
       "[(1, 'Jack', 78, 'Data Science'),\n",
       " (3, 'Rudolf', 78, 'Data Science'),\n",
       " (2, 'John', 56, 'Python Course'),\n",
       " (4, 'Jim', 56, 'Python Course'),\n",
       " (None, None, 101, 'Database')]"
      ]
     },
     "execution_count": 20,
     "metadata": {},
     "output_type": "execute_result"
    }
   ],
   "source": [
    "sql='select student.roll_no, student.studentname, course.courseid, course.coursename FROM course LEFT JOIN student ON student.courseid = course.courseid'\n",
    "results=cur.execute(sql)\n",
    "results.fetchall()"
   ]
  }
 ],
 "metadata": {
  "kernelspec": {
   "display_name": "Python 3 (ipykernel)",
   "language": "python",
   "name": "python3"
  },
  "language_info": {
   "codemirror_mode": {
    "name": "ipython",
    "version": 3
   },
   "file_extension": ".py",
   "mimetype": "text/x-python",
   "name": "python",
   "nbconvert_exporter": "python",
   "pygments_lexer": "ipython3",
   "version": "3.12.7"
  }
 },
 "nbformat": 4,
 "nbformat_minor": 5
}
